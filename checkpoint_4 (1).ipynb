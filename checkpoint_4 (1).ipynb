{
  "nbformat": 4,
  "nbformat_minor": 0,
  "metadata": {
    "colab": {
      "name": "checkpoint.4",
      "provenance": [],
      "collapsed_sections": []
    },
    "kernelspec": {
      "name": "python3",
      "display_name": "Python 3"
    },
    "language_info": {
      "name": "python"
    }
  },
  "cells": [
    {
      "cell_type": "code",
      "execution_count": null,
      "metadata": {
        "colab": {
          "base_uri": "https://localhost:8080/"
        },
        "id": "50i4Fpjc09tB",
        "outputId": "217670ad-6e55-4c68-ca24-37b0069923c9"
      },
      "outputs": [
        {
          "output_type": "stream",
          "name": "stdout",
          "text": [
            "(1, 2, 3)\n"
          ]
        }
      ],
      "source": [
        "class point3D:\n",
        "  def __init__ (self,x,y,z):\n",
        "    self.x=x\n",
        "    self.y=y\n",
        "    self.z=z\n",
        "  \n",
        "  def affichage(self):\n",
        "    return self.x,self.y,self.z\n",
        "\n",
        "my_point = point3D(1,2,3)\n",
        "\n",
        "print(my_point.affichage())\n"
      ]
    },
    {
      "cell_type": "code",
      "source": [
        "class rectangle:\n",
        "  def __init__ (self,longueur,largeur):\n",
        "    self.longueur=longueur\n",
        "    self.largeur=largeur\n",
        "\n",
        "  def area(self):\n",
        "    print(\"The area of my rectangle is {}:\".format(self.longueur*self.largeur))\n",
        "\n",
        "  def perimeter(self):\n",
        "    print(\"The perimeter of my rectangle is : {} \".format(2*(self.longueur+self.largeur)))\n",
        "\n",
        "my_rectangle = rectangle(4,3)\n",
        "\n",
        "my_rectangle.area()\n",
        "my_rectangle.perimeter()"
      ],
      "metadata": {
        "colab": {
          "base_uri": "https://localhost:8080/"
        },
        "id": "rqZaXUz-6wJh",
        "outputId": "30b2e913-a73a-4c6d-93ff-87f2ea1b2bd7"
      },
      "execution_count": null,
      "outputs": [
        {
          "output_type": "stream",
          "name": "stdout",
          "text": [
            "The area of my rectangle is 12:\n",
            "The perimeter of my rectangle is : 14 \n"
          ]
        }
      ]
    },
    {
      "cell_type": "code",
      "source": [
        "class circle:\n",
        "  \n",
        "  def __init__ (self,x_circle, y_circle, radius):\n",
        "    self.radius=radius\n",
        "    self.x_circle=x_circle\n",
        "    self.y_circle=y_circle\n",
        "  \n",
        "  def area (self):\n",
        "    print(\"The area of my circle is : {} \".format(3.14*self.radius**2))\n",
        "\n",
        "  def perimeter(self):\n",
        "    print(\"the perimeter of my circle is : {} \".format(2*3.14*self.radius) )\n",
        "\n",
        "  def isInside(self, x, y):\n",
        "    if ((x-self.x_circle)**2 + (y-self.y_circle)**2<= self.radius**2) :\n",
        "      return True\n",
        "    else:\n",
        "      return False\n",
        "\n",
        "my_circle= circle(-6, 3, 11)\n",
        "my_circle.area()\n",
        "my_circle.perimeter()\n",
        "\n",
        "if(my_circle.isInside(3,-3)==True):\n",
        "  print(\"this point is inside my circle\")\n",
        "else:\n",
        "  print(\"this point is outside my circle\")\n",
        "\n"
      ],
      "metadata": {
        "colab": {
          "base_uri": "https://localhost:8080/"
        },
        "id": "SpYmVVAWTW6n",
        "outputId": "3407a54f-a17c-488c-b17d-02a43275da6d"
      },
      "execution_count": null,
      "outputs": [
        {
          "output_type": "stream",
          "name": "stdout",
          "text": [
            "The area of my circle is : 379.94 \n",
            "the perimeter of my circle is : 69.08 \n",
            "this point is inside my circle\n"
          ]
        }
      ]
    },
    {
      "cell_type": "code",
      "source": [
        "class bank:\n",
        "  def __init__(self,balance):\n",
        "    self.balance=balance\n",
        "\n",
        "  def deposit(self, deposit):\n",
        "    self.balance=self.balance + deposit\n",
        "    return self.balance\n",
        "\n",
        "  def withdraw(self, withdraw):\n",
        "    self.balance=self.balance - withdraw\n",
        "    return self.balance\n",
        "\n",
        "new_balance=bank(50000)\n",
        "\n",
        "print(\"my new balance after : \",new_balance.deposit(5000))\n",
        "print(\"my new balance before : \",new_balance.withdraw(500))\n",
        "  "
      ],
      "metadata": {
        "colab": {
          "base_uri": "https://localhost:8080/"
        },
        "id": "q2IjSNKKXzIP",
        "outputId": "9e796a1c-5984-4d4f-f866-62fd594dc7fd"
      },
      "execution_count": null,
      "outputs": [
        {
          "output_type": "stream",
          "name": "stdout",
          "text": [
            "my new balance after :  55000\n",
            "my new balance before :  54500\n"
          ]
        }
      ]
    }
  ]
}